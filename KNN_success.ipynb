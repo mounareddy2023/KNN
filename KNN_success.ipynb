{
 "cells": [
  {
   "cell_type": "code",
   "execution_count": 1,
   "metadata": {
    "collapsed": true
   },
   "outputs": [],
   "source": [
    "import pandas as pd\n",
    "import numpy as np\n",
    "# from matplotlib import pyplot\n",
    "# from sklearn.model_selection import train_test_split\n",
    "# from sklearn.metrics import accuracy_score\n",
    "import math\n",
    "import operator"
   ]
  },
  {
   "cell_type": "code",
   "execution_count": 2,
   "metadata": {},
   "outputs": [
    {
     "name": "stdout",
     "output_type": "stream",
     "text": [
      "   pickup_latitude  pickup_longitude  dropoff_latitude  dropoff_longitude  \\\n",
      "0            40.73            -73.99             40.73             -73.98   \n",
      "1            40.73            -73.98             40.72             -73.94   \n",
      "2            40.68            -73.98             40.79             -73.95   \n",
      "3            40.72            -73.99             40.66             -73.96   \n",
      "4            40.78            -73.96             40.76             -73.98   \n",
      "\n",
      "   fare_amount  \n",
      "0          7.5  \n",
      "1         18.0  \n",
      "2         33.0  \n",
      "3         16.5  \n",
      "4          8.0  \n",
      "(30999, 5)\n"
     ]
    }
   ],
   "source": [
    "from sklearn.neighbors import KNeighborsClassifier\n",
    "\n",
    "\n",
    "dataset = pd.read_csv(\"Taxi_Data.csv\")\n",
    "\n",
    "print(dataset.head(5))\n",
    "print(dataset.shape)\n",
    "\n"
   ]
  },
  {
   "cell_type": "code",
   "execution_count": 3,
   "metadata": {
    "collapsed": true
   },
   "outputs": [],
   "source": [
    "dataset['pickup_longitude'] = dataset['pickup_longitude'].astype('int64')\n",
    "dataset['pickup_latitude'] = dataset['pickup_latitude'].astype('int64')\n",
    "dataset['dropoff_latitude'] = dataset['dropoff_latitude'].astype('int64')\n",
    "dataset['dropoff_longitude'] = dataset['dropoff_longitude'].astype('int64')\n",
    "dataset['fare_amount'] = dataset['fare_amount'].astype('int64')"
   ]
  },
  {
   "cell_type": "code",
   "execution_count": 4,
   "metadata": {
    "collapsed": true
   },
   "outputs": [],
   "source": [
    "def euclideanDistance(data1, data2, length):\n",
    "    distance = 0\n",
    "    for x in range(length):\n",
    "        distance += np.square(data1[x] - data2[x])\n",
    "    return np.sqrt(distance)"
   ]
  },
  {
   "cell_type": "code",
   "execution_count": 5,
   "metadata": {
    "collapsed": true
   },
   "outputs": [],
   "source": [
    "# my KNN model\n",
    "def knn(trainingSet, testInstance, k):\n",
    " \n",
    "    distances = {}\n",
    "    sort = {}\n",
    " \n",
    "    length = testInstance.shape[1]\n",
    "    \n",
    "    # Calculating euclidean distance between each row of training data and test data\n",
    "    for x in range(len(trainingSet)):\n",
    "        \n",
    "       \n",
    "        dist = euclideanDistance(testInstance, trainingSet.iloc[x], length)\n",
    "\n",
    "        distances[x] = dist[0]\n",
    "       \n",
    " \n",
    "   \n",
    "    # Sorting them on the basis of distance\n",
    "    sorted_d = sorted(distances.items(), key=operator.itemgetter(1))\n",
    "    \n",
    " \n",
    "    neighbors = []\n",
    "    \n",
    "   \n",
    "    # Extracting top k neighbors\n",
    "    for x in range(k):\n",
    "        neighbors.append(sorted_d[x][0])\n",
    "   \n",
    "    classVotes = {}\n",
    "    \n",
    "    \n",
    "    # Calculating the most freq class in the neighbors\n",
    "    for x in range(len(neighbors)):\n",
    "        response = trainingSet.iloc[neighbors[x]][-1]\n",
    " \n",
    "        if response in classVotes:\n",
    "            classVotes[response] += 1\n",
    "        else:\n",
    "            classVotes[response] = 1\n",
    "    \n",
    "\n",
    "    \n",
    "    sortedVotes = sorted(classVotes.items(), key=operator.itemgetter(1), reverse=True)\n",
    "    return(sortedVotes[0][0], neighbors)\n",
    "   \n"
   ]
  },
  {
   "cell_type": "code",
   "execution_count": 15,
   "metadata": {},
   "outputs": [
    {
     "name": "stdout",
     "output_type": "stream",
     "text": [
      "Predicting using my model\n",
      "6\n"
     ]
    }
   ],
   "source": [
    "\n",
    "k = 20\n",
    "testSet = [[40.78, -73.96 , 40.76, -73.98]]\n",
    "\n",
    "\n",
    "test = pd.DataFrame(testSet)\n",
    "result,neigh = knn(dataset, test, k)\n",
    "print(\"Predicting using my model\")\n",
    "#print(\"Predicting the fare amount received by Taxi Driver at entered location is\")\n",
    "print(result)\n"
   ]
  },
  {
   "cell_type": "code",
   "execution_count": 16,
   "metadata": {},
   "outputs": [
    {
     "name": "stdout",
     "output_type": "stream",
     "text": [
      "Predicting the fare amount received by Taxi Driver at entered location is\n",
      "[22]\n"
     ]
    }
   ],
   "source": [
    "from sklearn.neighbors import KNeighborsClassifier\n",
    "\n",
    "k=20\n",
    "\n",
    "result = KNeighborsClassifier(k)\n",
    "result.fit(dataset.iloc[:,0:4], dataset['fare_amount'])\n",
    "\n",
    "print(\"Predicting the fare amount received by Taxi Driver at entered location is\")\n",
    "\n",
    "print(result.predict(test))\n"
   ]
  },
  {
   "cell_type": "code",
   "execution_count": null,
   "metadata": {
    "collapsed": true
   },
   "outputs": [],
   "source": []
  }
 ],
 "metadata": {
  "kernelspec": {
   "display_name": "Python 3",
   "language": "python",
   "name": "python3"
  },
  "language_info": {
   "codemirror_mode": {
    "name": "ipython",
    "version": 3
   },
   "file_extension": ".py",
   "mimetype": "text/x-python",
   "name": "python",
   "nbconvert_exporter": "python",
   "pygments_lexer": "ipython3",
   "version": "3.6.3"
  }
 },
 "nbformat": 4,
 "nbformat_minor": 2
}
